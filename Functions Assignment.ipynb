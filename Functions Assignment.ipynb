{
 "cells": [
  {
   "cell_type": "markdown",
   "id": "a666f480",
   "metadata": {},
   "source": [
    "Q1= Which keyword is used to create a function? Create a function to return a list of odd numbers in the range of 1 to 25.\n",
    "\n",
    "Ans= 'def' keyword is used to create a function."
   ]
  },
  {
   "cell_type": "code",
   "execution_count": 3,
   "id": "5d85c6f2",
   "metadata": {},
   "outputs": [
    {
     "data": {
      "text/plain": [
       "[1, 3, 5, 7, 9, 11, 13, 15, 17, 19, 21, 23, 25]"
      ]
     },
     "execution_count": 3,
     "metadata": {},
     "output_type": "execute_result"
    }
   ],
   "source": [
    "def odd_number():\n",
    "    n=[]\n",
    "    for i in range(1,26):\n",
    "        if i%2!=0:\n",
    "            n.append(i)\n",
    "    return n\n",
    "odd_number()\n"
   ]
  },
  {
   "cell_type": "markdown",
   "id": "2f187119",
   "metadata": {},
   "source": [
    " Q2= Why '*args' and '**kargs' is used in some functions? create a function each for *args and **kwargs to demonstrate their use."
   ]
  },
  {
   "cell_type": "code",
   "execution_count": 2,
   "id": "7f2631ec",
   "metadata": {},
   "outputs": [
    {
     "data": {
      "text/plain": [
       "(1, 2, 9, [22, 33, 44], 'swift')"
      ]
     },
     "execution_count": 2,
     "metadata": {},
     "output_type": "execute_result"
    }
   ],
   "source": [
    "'''Q2= \n",
    "Ans= '*args' is used in functions which will able to take 'n' number of arguments at arun time''' \n",
    "\n",
    "\n",
    "def ver(*args):\n",
    "    return args\n",
    "ver(1,2,9,[22,33,44],\"swift\")"
   ]
  },
  {
   "cell_type": "code",
   "execution_count": 1,
   "id": "b186c92f",
   "metadata": {},
   "outputs": [
    {
     "data": {
      "text/plain": [
       "('orange', [12, 2, 3, 44, 3])"
      ]
     },
     "execution_count": 1,
     "metadata": {},
     "output_type": "execute_result"
    }
   ],
   "source": [
    "''' '**kwargs' is used in functions to create a functions having 'n' numbers of key and value pair.'''\n",
    "def fruit(**kwargs):\n",
    "    for i in kwargs.keys():\n",
    "        if type(kwargs[i])== list:\n",
    "            return i,kwargs[i]\n",
    "fruit(apple=2,banana=3,orange=[12,2,3,44,3])"
   ]
  },
  {
   "cell_type": "markdown",
   "id": "07c46bff",
   "metadata": {},
   "source": [
    "Q3= What is an iterator in python? Name the method used to initialise the iterator object and the method used for iteration.Use these methods to print the first five elements of the given list[2,4,6,8,10,12,14,16,18,20].\n",
    "\n",
    "Ans= An iterator in python is an object that is used to iterate over iterable object like lists,tuples,dicts,sets.The Python iterators object is initialized using the 'iter()' method.It uses the 'next()' method for iteration."
   ]
  },
  {
   "cell_type": "code",
   "execution_count": 2,
   "id": "5ef815a3",
   "metadata": {},
   "outputs": [
    {
     "name": "stdout",
     "output_type": "stream",
     "text": [
      "2\n",
      "4\n",
      "6\n",
      "8\n",
      "10\n"
     ]
    }
   ],
   "source": [
    "k=[2,4,6,8,10,12,14,16,18,20]\n",
    "l=iter(k)\n",
    "print(next(l))\n",
    "print(next(l))\n",
    "print(next(l))\n",
    "print(next(l))\n",
    "print(next(l))"
   ]
  },
  {
   "cell_type": "markdown",
   "id": "69fe98f5",
   "metadata": {},
   "source": [
    "Q4= What is generator function in python? Why yield keyword is used? Give an example of generator function.\n",
    "\n",
    "Ans= Generator function is a special type of functions that can be used to iterate over a sequence of values without having to store the entire sequence in memory.\n",
    "Yield keyword is used to create a generator function in python."
   ]
  },
  {
   "cell_type": "code",
   "execution_count": 4,
   "id": "e9d57912",
   "metadata": {},
   "outputs": [
    {
     "name": "stdout",
     "output_type": "stream",
     "text": [
      "0\n",
      "1\n",
      "1\n",
      "2\n",
      "3\n",
      "5\n",
      "8\n"
     ]
    }
   ],
   "source": [
    "#for example:\n",
    "def fibonacci(n):\n",
    "    a,b=0,1\n",
    "    for i in range(n):\n",
    "        yield a\n",
    "        a,b=b,a+b\n",
    "for i in fibonacci(7):\n",
    "    print(i)"
   ]
  },
  {
   "cell_type": "markdown",
   "id": "81e13d41",
   "metadata": {},
   "source": [
    "Q5= Create a generator function for prime numbers less than 1000.Use the next() method to print the first 20 prime numbers."
   ]
  },
  {
   "cell_type": "code",
   "execution_count": 8,
   "id": "0182f713",
   "metadata": {},
   "outputs": [
    {
     "name": "stdout",
     "output_type": "stream",
     "text": [
      "2\n",
      "3\n",
      "5\n",
      "7\n",
      "11\n",
      "13\n",
      "17\n",
      "19\n",
      "23\n",
      "29\n",
      "31\n",
      "37\n",
      "41\n",
      "43\n",
      "47\n",
      "53\n",
      "59\n",
      "61\n",
      "67\n",
      "71\n"
     ]
    }
   ],
   "source": [
    "def nlp():\n",
    "    prime=[]\n",
    "    for i in range(2,1000):\n",
    "        if all(i%nlp!=0 for nlp in prime):\n",
    "            prime.append(i)\n",
    "            yield(i)\n",
    "prime_gen=nlp()\n",
    "print(next(prime_gen))\n",
    "print(next(prime_gen))\n",
    "print(next(prime_gen))\n",
    "print(next(prime_gen))\n",
    "print(next(prime_gen))\n",
    "print(next(prime_gen))\n",
    "print(next(prime_gen))\n",
    "print(next(prime_gen))\n",
    "print(next(prime_gen))\n",
    "print(next(prime_gen))\n",
    "print(next(prime_gen))\n",
    "print(next(prime_gen))\n",
    "print(next(prime_gen))\n",
    "print(next(prime_gen))\n",
    "print(next(prime_gen))\n",
    "print(next(prime_gen))\n",
    "print(next(prime_gen))\n",
    "print(next(prime_gen))\n",
    "print(next(prime_gen))\n",
    "print(next(prime_gen))"
   ]
  },
  {
   "cell_type": "code",
   "execution_count": null,
   "id": "b1edc0d0",
   "metadata": {},
   "outputs": [],
   "source": []
  },
  {
   "cell_type": "code",
   "execution_count": null,
   "id": "6569d149",
   "metadata": {},
   "outputs": [],
   "source": []
  },
  {
   "cell_type": "code",
   "execution_count": null,
   "id": "b38616a7",
   "metadata": {},
   "outputs": [],
   "source": []
  },
  {
   "cell_type": "code",
   "execution_count": null,
   "id": "6e541d47",
   "metadata": {},
   "outputs": [],
   "source": []
  },
  {
   "cell_type": "code",
   "execution_count": null,
   "id": "bdaf85c1",
   "metadata": {},
   "outputs": [],
   "source": []
  },
  {
   "cell_type": "code",
   "execution_count": null,
   "id": "b9dd019c",
   "metadata": {},
   "outputs": [],
   "source": []
  },
  {
   "cell_type": "code",
   "execution_count": null,
   "id": "8c23c66c",
   "metadata": {},
   "outputs": [],
   "source": []
  },
  {
   "cell_type": "code",
   "execution_count": null,
   "id": "4e24147a",
   "metadata": {},
   "outputs": [],
   "source": []
  },
  {
   "cell_type": "code",
   "execution_count": null,
   "id": "1650ae8c",
   "metadata": {},
   "outputs": [],
   "source": []
  },
  {
   "cell_type": "code",
   "execution_count": null,
   "id": "4579d68d",
   "metadata": {},
   "outputs": [],
   "source": []
  }
 ],
 "metadata": {
  "kernelspec": {
   "display_name": "Python 3 (ipykernel)",
   "language": "python",
   "name": "python3"
  },
  "language_info": {
   "codemirror_mode": {
    "name": "ipython",
    "version": 3
   },
   "file_extension": ".py",
   "mimetype": "text/x-python",
   "name": "python",
   "nbconvert_exporter": "python",
   "pygments_lexer": "ipython3",
   "version": "3.10.9"
  }
 },
 "nbformat": 4,
 "nbformat_minor": 5
}
